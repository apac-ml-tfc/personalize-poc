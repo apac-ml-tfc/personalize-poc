{
 "cells": [
  {
   "cell_type": "markdown",
   "metadata": {},
   "source": [
    "# Amazon Personalize Data Diagnostic\n",
    "\n",
    "This notebook provides a utility you can use to check your prepared data (CSV) files before loading to Amazon Personalize.\n",
    "\n",
    "It's a work in progress so won't cover everything, but may help to understand the condition of your data and whether any additional refinement needs to be done."
   ]
  },
  {
   "cell_type": "code",
   "execution_count": null,
   "metadata": {},
   "outputs": [],
   "source": [
    "%load_ext autoreload\n",
    "%autoreload 2\n",
    "\n",
    "# Python Built-Ins:\n",
    "import os\n",
    "import sys\n",
    "\n",
    "# External Dependencies:\n",
    "import boto3  # (Just in case it's helpful for fetching data)\n",
    "import pandas as pd\n",
    "\n",
    "# Local Dependencies:\n",
    "import util\n",
    "\n",
    "%matplotlib inline"
   ]
  },
  {
   "cell_type": "code",
   "execution_count": null,
   "metadata": {},
   "outputs": [],
   "source": [
    "# Interactions dataset is mandatory:\n",
    "interactions = pd.read_csv(\"poc_data/interactions.csv\")\n",
    "\n",
    "users = pd.read_csv(\"poc_data/users.csv\")\n",
    "# users = None  # Use this instead, if you don't have a users dataset\n",
    "items = pd.read_csv(\"poc_data/items.csv\")\n",
    "# or items = None  # Use this instead, if you don't have an items dataset"
   ]
  },
  {
   "cell_type": "code",
   "execution_count": null,
   "metadata": {},
   "outputs": [],
   "source": [
    "util.diagnostic.diagnose(interactions, users, items)"
   ]
  },
  {
   "cell_type": "code",
   "execution_count": null,
   "metadata": {},
   "outputs": [],
   "source": []
  }
 ],
 "metadata": {
  "kernelspec": {
   "display_name": "conda_python3",
   "language": "python",
   "name": "conda_python3"
  },
  "language_info": {
   "codemirror_mode": {
    "name": "ipython",
    "version": 3
   },
   "file_extension": ".py",
   "mimetype": "text/x-python",
   "name": "python",
   "nbconvert_exporter": "python",
   "pygments_lexer": "ipython3",
   "version": "3.6.10"
  }
 },
 "nbformat": 4,
 "nbformat_minor": 4
}
