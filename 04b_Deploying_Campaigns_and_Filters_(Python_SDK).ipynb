{
 "cells": [
  {
   "cell_type": "markdown",
   "metadata": {},
   "source": [
    "# Deploying Campaigns and Filters (Python SDK)\n",
    "\n",
    "In this notebook, we'll deploy our trained recommendation models and define some filtering rules, using [Boto3, the AWS SDK for Python](https://boto3.amazonaws.com/v1/documentation/api/latest/index.html).\n",
    "\n",
    "> For an **alternative** approach to the same steps through the [Amazon Personalize console UI](https://console.aws.amazon.com/personalize/home) - see Notebook [04a_Deploying_Campaigns_and_Filters_(Console).ipynb](04a_Deploying_Campaigns_and_Filters_(Console).ipynb) instead.\n",
    "\n",
    "⚠️ You'll need to already have run the previous notebooks in this series to set up your environment and train **solutions** (models) in Amazon Personalize\n",
    "\n",
    "Before we start, we'll here:\n",
    "\n",
    "- Import the libraries this notebook will use\n",
    "- Load the variables saved from previous steps\n",
    "- Connect to the relevant AWS services as we have before for IAM and S3"
   ]
  },
  {
   "cell_type": "code",
   "execution_count": null,
   "metadata": {},
   "outputs": [],
   "source": [
    "# Python Built-Ins:\n",
    "import json\n",
    "\n",
    "# External Dependencies:\n",
    "import boto3  # AWS SDK for Python\n",
    "\n",
    "# Local Dependencies:\n",
    "import util  # Small tool to print progress spinner\n",
    "\n",
    "# Reload saved variables:\n",
    "%store -r\n",
    "\n",
    "# Connect to AWS services:\n",
    "personalize = boto3.client(\"personalize\")"
   ]
  },
  {
   "cell_type": "markdown",
   "metadata": {},
   "source": [
    "## Create campaigns\n",
    "\n",
    "A campaign is a hosted solution version: an endpoint which you can query for recommendations in real-time. Pricing is determined by throughput capacity in **transactions per second** (TPS).\n",
    "\n",
    "When deploying a campaign you select a minimum **provisioned** TPS, which the endpoint will retain resources to serve with low-latency. However, the campaign will **auto-scale** above this if required by traffic volumes. As with many applications, autoscaling events may see some additional latency while extra infrastructure is being spun up. For more information, see the [pricing page](https://aws.amazon.com/personalize/pricing/).\n",
    "\n",
    "While provisioning ahead may be important for serving large-scale and latency-critical demand, for initial PoCs and demos like this it will make sense for us to select the minimum provisioned TPS (1).\n",
    "\n",
    "Let's start deploying the campaigns."
   ]
  },
  {
   "cell_type": "markdown",
   "metadata": {},
   "source": [
    "### User Personalization\n",
    "\n",
    "Deploying the campaign for our User-Personalization solution version is fairly straightforward - a single function call.\n",
    "\n",
    "Note that for this recipe (which includes functionality to \"cold-start\" recommendations for items with no or limited interactions in the historical data) we have [additional parameters](https://docs.aws.amazon.com/personalize/latest/dg/API_CreateCampaign.html) to control the trade-off between \"exploring\" these cold items and sticking to our ML-driven recommendations."
   ]
  },
  {
   "cell_type": "code",
   "execution_count": null,
   "metadata": {},
   "outputs": [],
   "source": [
    "userpersonalization_create_campaign_response = personalize.create_campaign(\n",
    "    name=\"personalize-movielens-up\",\n",
    "    solutionVersionArn=userpersonalization_solution_version_arn,\n",
    "    minProvisionedTPS=1,\n",
    "#     campaignConfig={\n",
    "#         \"itemExplorationConfig\": {\n",
    "#             ...\n",
    "#         }\n",
    "#     },\n",
    ")\n",
    "\n",
    "userpersonalization_campaign_arn = userpersonalization_create_campaign_response[\"campaignArn\"]\n",
    "print(json.dumps(userpersonalization_create_campaign_response, indent=2))"
   ]
  },
  {
   "cell_type": "markdown",
   "metadata": {},
   "source": [
    "> ⏰ This deployment is kicked off *in the background*, and it can take around 10 minutes to deploy a campaign.\n",
    "\n",
    "Rather than waiting here, we'll start our other campaigns deploying first:"
   ]
  },
  {
   "cell_type": "markdown",
   "metadata": {},
   "source": [
    "### SIMS\n",
    "\n",
    "Here we'll repeat the same process for our similar items solution:"
   ]
  },
  {
   "cell_type": "code",
   "execution_count": null,
   "metadata": {},
   "outputs": [],
   "source": [
    "sims_create_campaign_response = personalize.create_campaign(\n",
    "    name=\"personalize-movielens-sims\",\n",
    "    solutionVersionArn=sims_solution_version_arn,\n",
    "    minProvisionedTPS=1,\n",
    ")\n",
    "\n",
    "sims_campaign_arn = sims_create_campaign_response[\"campaignArn\"]\n",
    "print(json.dumps(sims_create_campaign_response, indent=2))"
   ]
  },
  {
   "cell_type": "markdown",
   "metadata": {},
   "source": [
    "> ⏰ This deployment is kicked off *in the background*, and it can take around 10 minutes to deploy a campaign.\n",
    "\n",
    "Rather than waiting here, we'll start our other campaigns deploying first:"
   ]
  },
  {
   "cell_type": "markdown",
   "metadata": {},
   "source": [
    "### Personalized Ranking\n",
    "\n",
    "Deploy a campaign for your personalized ranking solution version. It can take around 10 minutes to deploy a campaign. Normally, we would use a while loop to poll until the task is completed. However the task would block other cells from executing, and the goal here is to create multiple campaigns. So we will set up the while loop for all of the campaigns further down in the notebook. There, you will also find instructions for viewing the progress in the AWS console."
   ]
  },
  {
   "cell_type": "code",
   "execution_count": null,
   "metadata": {},
   "outputs": [],
   "source": [
    "rerank_create_campaign_response = personalize.create_campaign(\n",
    "    name=\"personalize-movielens-rerank\",\n",
    "    solutionVersionArn=rerank_solution_version_arn,\n",
    "    minProvisionedTPS=1,\n",
    ")\n",
    "\n",
    "rerank_campaign_arn = rerank_create_campaign_response[\"campaignArn\"]\n",
    "print(json.dumps(rerank_create_campaign_response, indent=2))"
   ]
  },
  {
   "cell_type": "markdown",
   "metadata": {},
   "source": [
    "> ⏰ This deployment is kicked off *in the background*, and it can take around 10 minutes to deploy a campaign."
   ]
  },
  {
   "cell_type": "markdown",
   "metadata": {},
   "source": [
    "## Wait for Campaigns to Deploy\n",
    "\n",
    "Of course we can view the status of these deploying campaigns through the [Amazon Personalize Console UI](https://console.aws.amazon.com/personalize/home) (See [Notebook 4a](04a_Deploying_Campaigns_and_Filters_(Console).ipynb) for more details).\n",
    "\n",
    "...But we can also query this status through the APIs. The cell below will set up a polling loop to wait until all three campaigns have completed deployment:"
   ]
  },
  {
   "cell_type": "code",
   "execution_count": null,
   "metadata": {},
   "outputs": [],
   "source": [
    "in_progress_campaigns = [\n",
    "    userpersonalization_campaign_arn,\n",
    "    sims_campaign_arn,\n",
    "    rerank_campaign_arn\n",
    "]\n",
    "\n",
    "max_time = time.time() + 3*60*60 # 3 hours\n",
    "while time.time() < max_time:\n",
    "    for campaign_arn in in_progress_campaigns:\n",
    "        version_response = personalize.describe_campaign(\n",
    "            campaignArn = campaign_arn\n",
    "        )\n",
    "        status = version_response[\"campaign\"][\"status\"]\n",
    "        \n",
    "        if status == \"ACTIVE\":\n",
    "            print(\"Build succeeded for {}\".format(campaign_arn))\n",
    "            in_progress_campaigns.remove(campaign_arn)\n",
    "        elif status == \"CREATE FAILED\":\n",
    "            print(\"Build failed for {}\".format(campaign_arn))\n",
    "            in_progress_campaigns.remove(campaign_arn)\n",
    "    \n",
    "    if len(in_progress_campaigns) <= 0:\n",
    "        break\n",
    "    else:\n",
    "        print(\"At least one campaign build is still in progress\")\n",
    "        \n",
    "    time.sleep(60)"
   ]
  },
  {
   "cell_type": "markdown",
   "metadata": {},
   "source": [
    "## Create Event Trackers\n",
    "\n",
    "**Why** are we focussing on real-time model deployment with campaigns to start with, rather than batch inference? Well, recommendations can be most valuable when they're **fresh and dynamic** - updating to respond to a user's recent interactions and interests.\n",
    "\n",
    "To get this dynamic behaviour, we'll have to **notify Personalize of new events (interactions)** as they happen - and to do that, we'll need to create an **Event Tracker**.\n",
    "\n",
    "Creating the event tracker itself is fairly simple, and we just need to make a note of the resulting **tracking ID**:"
   ]
  },
  {
   "cell_type": "code",
   "execution_count": null,
   "metadata": {},
   "outputs": [],
   "source": [
    "create_tracker_resp = personalize.create_event_tracker(\n",
    "    name=\"personalize-movielens-tracker\",\n",
    "    datasetGroupArn=dataset_group_arn,\n",
    ")\n",
    "\n",
    "tracking_id = create_tracker_resp[\"trackingId\"]\n",
    "%store tracking_id\n",
    "create_tracker_resp"
   ]
  },
  {
   "cell_type": "markdown",
   "metadata": {},
   "source": [
    "We'll see the event tracker in action in the next notebook!"
   ]
  },
  {
   "cell_type": "markdown",
   "metadata": {},
   "source": [
    "## Create Filters\n",
    "\n",
    "**Filters** allow us to implement **business rules** to post-process the recommendations generated by our ML models, before they're returned from the campaign API.\n",
    "\n",
    "As further detailed in the [documentation](https://docs.aws.amazon.com/personalize/latest/dg/filter.html), filters can serve a range of use-cases such as:\n",
    "\n",
    "- Filtering based on item metadata (such as genre or year)\n",
    "- Filtering based on past interactions (such as excluding items the user has already watched)\n",
    "- Filtering based on user metadata and combinations (such as excluding certain genres based on the customer's age or membership tier)\n",
    "\n",
    "...Using whatever metadata fields we added to our datasets.\n",
    "\n",
    "Filters are written in a SQL-like [Filter expression language](https://docs.aws.amazon.com/personalize/latest/dg/filter-expressions.html) - which we'll see in action here.\n",
    "\n",
    "> ⚠️ **Note:** The Amazon Personalize console includes a **filter expression builder UI**, which may be easier to work with when first getting started than simply passing expression strings to the API as we do here!\n",
    "\n",
    "Let's create some example filters using the fields in our sample dataset."
   ]
  },
  {
   "cell_type": "markdown",
   "metadata": {},
   "source": [
    "### 1970s Movies\n",
    "\n",
    "For our first attempt, we'll create a filter for showing only movies from the 1970s. It's a simple function call to define our filter:"
   ]
  },
  {
   "cell_type": "code",
   "execution_count": null,
   "metadata": {},
   "outputs": [],
   "source": [
    "create_decade_filter_resp = personalize.create_filter(\n",
    "    name=\"1970s\",\n",
    "    datasetGroupArn=dataset_group_arn,\n",
    "    filterExpression=\"INCLUDE ItemID WHERE Items.YEAR >= 1970 AND Items.YEAR < 1980\",\n",
    ")"
   ]
  },
  {
   "cell_type": "markdown",
   "metadata": {},
   "source": [
    "### 'Watch Again' and 'Try Something New'\n",
    "\n",
    "Next let's create two opposite filters: One to show only movies our user has watched (reviewed) before, and one to show only movies they haven't."
   ]
  },
  {
   "cell_type": "code",
   "execution_count": null,
   "metadata": {},
   "outputs": [],
   "source": [
    "create_watched_filter_resp = personalize.create_filter(\n",
    "    name=\"watched\",\n",
    "    datasetGroupArn=dataset_group_arn,\n",
    "    filterExpression='INCLUDE ItemID WHERE Interactions.event_type IN (\"watch\")',\n",
    ")\n",
    "\n",
    "create_unwatched_filter_resp = personalize.create_filter(\n",
    "    name=\"unwatched\",\n",
    "    datasetGroupArn=dataset_group_arn,\n",
    "    filterExpression='EXCLUDE ItemID WHERE Interactions.event_type IN (\"watch\")',\n",
    ")"
   ]
  },
  {
   "cell_type": "markdown",
   "metadata": {},
   "source": [
    "### Choose a Genre\n",
    "\n",
    "Finally, we'll look at a basic example including a **parameter** you can set at request time: Building a filter for recommending from a single genre."
   ]
  },
  {
   "cell_type": "code",
   "execution_count": null,
   "metadata": {},
   "outputs": [],
   "source": [
    "create_genre_filter_resp = personalize.create_filter(\n",
    "    name=\"by-genre\",\n",
    "    datasetGroupArn=dataset_group_arn,\n",
    "    filterExpression=\"INCLUDE ItemID WHERE Items.GENRES IN ($GENRE)\"\n",
    ")"
   ]
  },
  {
   "cell_type": "markdown",
   "metadata": {},
   "source": [
    "We should now have four filters set up in our dataset group:"
   ]
  },
  {
   "cell_type": "code",
   "execution_count": null,
   "metadata": {},
   "outputs": [],
   "source": [
    "personalize.list_filters(datasetGroupArn=dataset_group_arn)"
   ]
  },
  {
   "cell_type": "markdown",
   "metadata": {},
   "source": [
    "## All set!\n",
    "\n",
    "We've now deployed our campaigns and created some filter expressions to help further refine our results.\n",
    "\n",
    "In the next notebook we'll demonstrate **using** these models from application code to generate recommendations!\n",
    "\n",
    "Follow along in [05_Interacting_with_Campaigns_and_Filters.ipynb](05_Interacting_with_Campaigns_and_Filters.ipynb)"
   ]
  }
 ],
 "metadata": {
  "kernelspec": {
   "display_name": "conda_python3",
   "language": "python",
   "name": "conda_python3"
  },
  "language_info": {
   "codemirror_mode": {
    "name": "ipython",
    "version": 3
   },
   "file_extension": ".py",
   "mimetype": "text/x-python",
   "name": "python",
   "nbconvert_exporter": "python",
   "pygments_lexer": "ipython3",
   "version": "3.6.10"
  }
 },
 "nbformat": 4,
 "nbformat_minor": 4
}
