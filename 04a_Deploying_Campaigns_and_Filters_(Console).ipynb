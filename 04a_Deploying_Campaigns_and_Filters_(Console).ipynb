{
 "cells": [
  {
   "cell_type": "markdown",
   "metadata": {},
   "source": [
    "# Deploying Campaigns and Filters (AWS Console)\n",
    "\n",
    "In this notebook, we'll deploy our trained recommendation models and define some filtering rules, using the [Amazon Personalize console UI](https://console.aws.amazon.com/personalize/home).\n",
    "\n",
    "> For an **alternative** approach to the same steps same steps *programmatically* using [Boto3, the AWS SDK for Python](https://boto3.amazonaws.com/v1/documentation/api/latest/index.html) - see Notebook [04b_Deploying_Campaigns_and_Filters_(Python_SDK).ipynb](04b_Deploying_Campaigns_and_Filters_(Python_SDK).ipynb) instead.\n",
    "\n",
    "⚠️ You'll need to already have run the previous notebooks in this series to set up your environment and train **solutions** (models) in Amazon Personalize, including **waiting for your solution versions to finish training**"
   ]
  },
  {
   "cell_type": "markdown",
   "metadata": {},
   "source": [
    "## Create campaigns\n",
    "\n",
    "A campaign is a hosted solution version: an endpoint which you can query for recommendations in real-time. Pricing is determined by throughput capacity in **transactions per second** (TPS).\n",
    "\n",
    "When deploying a campaign you select a minimum **provisioned** TPS, which the endpoint will retain resources to serve with low-latency. However, the campaign will **auto-scale** above this if required by traffic volumes. As with many applications, autoscaling events may see some additional latency while extra infrastructure is being spun up. For more information, see the [pricing page](https://aws.amazon.com/personalize/pricing/).\n",
    "\n",
    "While provisioning ahead may be important for serving large-scale and latency-critical demand, for initial PoCs and demos like this it will make sense for us to select the minimum provisioned TPS (1).\n",
    "\n",
    "Let's start deploying the campaigns."
   ]
  },
  {
   "cell_type": "markdown",
   "metadata": {},
   "source": [
    "### User Personalization\n",
    "\n",
    "For our first campaign, you can get started from the dataset group dashboard page.\n",
    "\n",
    "▶️ **Click** *Create new campaign* to start the workflow\n",
    "\n",
    "![](static/imgs/dashboard-solutions-trained.png \"Dataset group dashboard screen showing option to create campaign\")\n",
    "\n",
    "▶️ **Configure** your campaign as follows:\n",
    "\n",
    "- **Name** it `personalize-movielens-up`\n",
    "- Select the **user personalization solution** from the dropdown\n",
    "\n",
    "The other settings (including the ID of your trained solution version) should populate by default. Note that for this recipe (which includes functionality to \"cold-start\" recommendations for items with no or limited interactions in the historical data) we have additional parameters to control the trade-off between \"exploring\" these cold items and sticking to our ML-driven recommendations.\n",
    "\n",
    "![](static/imgs/create-campaign-up.png \"Create campaign screen for user-personalization solution\")\n",
    "\n",
    "When you're ready, go ahead and click **Create campaign**.\n",
    "\n",
    "> ⏰ It can take around 10 minutes to deploy a campaign. You can check the status of your campaigns from the \"Campaigns\" tab in the sidebar menu.\n",
    "\n",
    "...But there's **no need for us to wait yet**: Let's move ahead with creating our other campaigns.\n",
    "\n",
    "![](static/imgs/campaigns-list-up-only.png \"Campaigns list view showing U-P campaign creating\")"
   ]
  },
  {
   "cell_type": "markdown",
   "metadata": {},
   "source": [
    "### SIMS\n",
    "\n",
    "From the *Campaigns* tab of the sidebar as shown above, click the **Create campaign** button.\n",
    "\n",
    "▶️ **Configure** your campaign as follows:\n",
    "\n",
    "- **Name** it `personalize-movielens-sims`\n",
    "- Select the **SIMS solution** from the dropdown\n",
    "\n",
    "This time the screen is a little simpler, as the sims recipe has no deployment-time options:\n",
    "\n",
    "![](static/imgs/create-campaign-sims.png \"Create campaign screen for SIMS solution\")\n",
    "\n",
    "When you're ready, go ahead and click **Create campaign**."
   ]
  },
  {
   "cell_type": "markdown",
   "metadata": {},
   "source": [
    "### Personalized Ranking\n",
    "\n",
    "As before, from the *Campaigns* tab of the sidebar, click the **Create campaign** button.\n",
    "\n",
    "▶️ **Configure** your campaign as follows:\n",
    "\n",
    "- **Name** it `personalize-movielens-rerank`\n",
    "- Select the **re-ranking solution** from the dropdown\n",
    "\n",
    "This time the screen is a little simpler, as the sims recipe has no deployment-time options:\n",
    "\n",
    "![](static/imgs/create-campaign-sims.png \"Create campaign screen for SIMS solution\")\n",
    "\n",
    "When you're ready, go ahead and click **Create campaign**."
   ]
  },
  {
   "cell_type": "markdown",
   "metadata": {},
   "source": [
    "## Wait for Campaigns to Deploy\n",
    "\n",
    "▶️ **Wait** until all of your campaigns show as 'Active' on the Campaigns list view:\n",
    "\n",
    "![](static/imgs/campaigns-list-all-active.png \"Campaigns list view showing 3 active campaigns\")"
   ]
  },
  {
   "cell_type": "markdown",
   "metadata": {},
   "source": [
    "## Using Campaigns from the AWS Console *(Information Only)*\n",
    "\n",
    "As you may notice, it's possible to **'Test campaign results'** from the console for active campaigns, including applying the filter expressions we'll create next!\n",
    "\n",
    "![](static/imgs/test-campaign-up-input.png \"Campaign detail screen showing 'test campaign results' form\")\n",
    "\n",
    "...However, we only see recommended item IDs and scores (without linking back to metadata such as title) - so we'll instead focus on using the Python SDK to explore recommendations in the next notebook, for something a bit more human-readable:\n",
    "\n",
    "![](static/imgs/test-campaign-up-results.png \"Campaign detail screen showing sample results - ID and score columns\")"
   ]
  },
  {
   "cell_type": "markdown",
   "metadata": {},
   "source": [
    "## Create Event Trackers\n",
    "\n",
    "**Why** are we focussing on real-time model deployment with campaigns to start with, rather than batch inference? Well, recommendations can be most valuable when they're **fresh and dynamic** - updating to respond to a user's recent interactions and interests.\n",
    "\n",
    "To get this dynamic behaviour, we'll have to **notify Personalize of new events (interactions)** as they happen - and to do that, we'll need to create an **Event Tracker**.\n",
    "\n",
    "You'll see how this tracker gets used in the next notebook, but for now:\n",
    "\n",
    "▶️ **Open** the *Event trackers* tab of the sidebar menu to go to the (empty) event trackers list\n",
    "\n",
    "![](static/imgs/trackers-list-empty.png \"Trackers list screen with no trackers created\")\n",
    "\n",
    "▶️ **Click** the *Create event tracker* button and **name** your event tracker, like `personalize-movielens-tracker`\n",
    "\n",
    "![](static/imgs/create-tracker.png \"Create tracker screen with name configured\")\n",
    "\n",
    "▶️ **Copy** the **tracking ID** from the next screen, and replace it below before running the cell to save it:"
   ]
  },
  {
   "cell_type": "code",
   "execution_count": null,
   "metadata": {},
   "outputs": [],
   "source": [
    "tracking_id = \"12345678-abcd-7890-cdef-1234567890ab\"  # REPLACE ME WITH YOURS!\n",
    "%store tracking_id"
   ]
  },
  {
   "cell_type": "markdown",
   "metadata": {},
   "source": [
    "The rest of this screen gives guidance on integrating the created tracker with your applications - but since we'll just be making SDK calls direct from a Python notebook... You can go ahead and click **Finish**\n",
    "\n",
    "![](static/imgs/tracker-created.png \"Tracker creation 'install the SDK' screen\")\n",
    "\n",
    "We'll see the event tracker in action in the next notebook!"
   ]
  },
  {
   "cell_type": "markdown",
   "metadata": {},
   "source": [
    "## Create Filters\n",
    "\n",
    "**Filters** allow us to implement **business rules** to post-process the recommendations generated by our ML models, before they're returned from the campaign API.\n",
    "\n",
    "As further detailed in the [documentation](https://docs.aws.amazon.com/personalize/latest/dg/filter.html), filters can serve a range of use-cases such as:\n",
    "\n",
    "- Filtering based on item metadata (such as genre or year)\n",
    "- Filtering based on past interactions (such as excluding items the user has already watched)\n",
    "- Filtering based on user metadata and combinations (such as excluding certain genres based on the customer's age or membership tier)\n",
    "\n",
    "...Using whatever metadata fields we added to our datasets.\n",
    "\n",
    "Filters are written in a SQL-like [Filter expression language](https://docs.aws.amazon.com/personalize/latest/dg/filter-expressions.html) - which we'll see in action here.\n",
    "\n",
    "Let's create some example filters using the fields in our sample dataset. Start by navigating to the **Filters** tab on the sidebar menu:\n",
    "\n",
    "![](static/imgs/filters-list-empty.png \"Filters list screen (empty)\")"
   ]
  },
  {
   "cell_type": "markdown",
   "metadata": {},
   "source": [
    "### 1970s Movies\n",
    "\n",
    "For our first attempt, we'll create a filter for showing only movies from the 1970s.\n",
    "\n",
    "▶️ **Click** *Create a new filter* to start the workflow\n",
    "\n",
    "▶️ **Configure** your filter as follows:\n",
    "\n",
    "- **Name** it `1970s`\n",
    "- Enter the **filter expression** below - either directly or using the expression builder tool:\n",
    "\n",
    "```\n",
    "INCLUDE ItemID WHERE Items.YEAR >= 1970 AND Items.YEAR < 1980\n",
    "```\n",
    "\n",
    "![](static/imgs/create-filter-1970s.png \"Create filter screen for 1970s movies expression\")\n",
    "\n",
    "When you're ready, go ahead and click **Create filter** to finish.\n"
   ]
  },
  {
   "cell_type": "markdown",
   "metadata": {},
   "source": [
    "### 'Watch Again' and 'Try Something New'\n",
    "\n",
    "Next let's create two opposite filters: One to show only movies our user has watched (reviewed) before, and one to show only movies they haven't.\n",
    "\n",
    "\n",
    "▶️ **Click** *Create a new filter* to start the workflow, as we did before\n",
    "\n",
    "▶️ **Configure** your filter as follows:\n",
    "\n",
    "- **Name** it `watched`\n",
    "- Enter the **filter expression** below - either directly or using the expression builder tool:\n",
    "\n",
    "```\n",
    "INCLUDE ItemID WHERE Interactions.event_type IN (\"review\")\n",
    "```\n",
    "\n",
    "> ⚠️ **Remember** that our sample dataset only has \"review\" events, but a typical video-on-demand use-case would have multiple kinds of events recorded!\n",
    "\n",
    "![](static/imgs/create-filter-watched.png \"Create filter screen showing 'watched' filter expression\")\n",
    "\n",
    "When you're ready, go ahead and click **Create filter** to finish.\n",
    "\n",
    "▶️ **Repeat** the process to create a filter called `unwatched` with **EXCLUDE** instead of **INCLUDE** in the filter expression"
   ]
  },
  {
   "cell_type": "markdown",
   "metadata": {},
   "source": [
    "### Choose a Genre\n",
    "\n",
    "Finally, we'll look at a basic example including a **parameter** you can set at request time: Building a filter for recommending from a single genre.\n",
    "\n",
    "▶️ **Click** *Create a new filter* to start the workflow, as we did before\n",
    "\n",
    "▶️ **Configure** your filter as follows:\n",
    "\n",
    "- **Name** it `by-genre`\n",
    "- Enter the **filter expression** below - either directly or using the expression builder tool:\n",
    "\n",
    "```\n",
    "INCLUDE ItemID WHERE Items.GENRES IN ($GENRE)\n",
    "```\n",
    "\n",
    "Once you're finished, you should have 4 filters as below:\n",
    "\n",
    "![](static/imgs/filters-list-full.png \"Filters list screen showing created filters\")"
   ]
  },
  {
   "cell_type": "markdown",
   "metadata": {},
   "source": [
    "## All set!\n",
    "\n",
    "We've now deployed our campaigns and created some filter expressions to help further refine our results.\n",
    "\n",
    "In the next notebook we'll dip back in to Python to demonstrate **using** these models from application code to generate recommendations!\n",
    "\n",
    "Follow along in [05_Interacting_with_Campaigns_and_Filters.ipynb](05_Interacting_with_Campaigns_and_Filters.ipynb)"
   ]
  }
 ],
 "metadata": {
  "kernelspec": {
   "display_name": "conda_python3",
   "language": "python",
   "name": "conda_python3"
  },
  "language_info": {
   "codemirror_mode": {
    "name": "ipython",
    "version": 3
   },
   "file_extension": ".py",
   "mimetype": "text/x-python",
   "name": "python",
   "nbconvert_exporter": "python",
   "pygments_lexer": "ipython3",
   "version": "3.6.10"
  }
 },
 "nbformat": 4,
 "nbformat_minor": 4
}
